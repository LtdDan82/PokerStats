{
 "cells": [
  {
   "cell_type": "code",
   "execution_count": 31,
   "metadata": {},
   "outputs": [],
   "source": [
    "%matplotlib inline\n",
    "import matplotlib.pyplot as plt\n",
    "import pandas as pd\n",
    "#import seaborn as sns\n",
    "\n",
    "\n",
    "from lib.data_transform import extract_transform\n",
    "# Game Stats\n",
    "from lib.data_analysis import GameStats\n",
    "# Player Specific Stats\n",
    "from lib.player_spec_analysis import PlayerStats"
   ]
  },
  {
   "cell_type": "code",
   "execution_count": 32,
   "metadata": {},
   "outputs": [],
   "source": [
    "df_final = extract_transform()\n",
    "\n",
    "gamestats = GameStats(df_final)\n",
    "game = gamestats.get_played_games()\n",
    "pot = gamestats.get_pot_stats()\n",
    "general_gStats = gamestats.get_gameStats(game, pot)\n",
    "\n",
    "df = general_gStats\n",
    "\n",
    "\n"
   ]
  },
  {
   "cell_type": "code",
   "execution_count": 33,
   "metadata": {},
   "outputs": [],
   "source": [
    "#df.style.background_gradient(cmap='RdYlGn_r', axis = 0)"
   ]
  },
  {
   "cell_type": "code",
   "execution_count": 34,
   "metadata": {},
   "outputs": [
    {
     "data": {
      "text/html": [
       "<style  type=\"text/css\" >\n",
       "#T_e00b15ad_443e_11eb_aa57_04922689d95brow0_col0,#T_e00b15ad_443e_11eb_aa57_04922689d95brow0_col1,#T_e00b15ad_443e_11eb_aa57_04922689d95brow1_col0,#T_e00b15ad_443e_11eb_aa57_04922689d95brow1_col1{\n",
       "            background-color:  #b6b6b6;\n",
       "            color:  #000000;\n",
       "        }#T_e00b15ad_443e_11eb_aa57_04922689d95brow0_col2,#T_e00b15ad_443e_11eb_aa57_04922689d95brow4_col4{\n",
       "            background-color:  #6a6a6a;\n",
       "            color:  #000000;\n",
       "        }#T_e00b15ad_443e_11eb_aa57_04922689d95brow0_col3{\n",
       "            background-color:  #c1c1c1;\n",
       "            color:  #000000;\n",
       "        }#T_e00b15ad_443e_11eb_aa57_04922689d95brow0_col4{\n",
       "            background-color:  #070707;\n",
       "            color:  #f1f1f1;\n",
       "        }#T_e00b15ad_443e_11eb_aa57_04922689d95brow0_col5{\n",
       "            background-color:  #959595;\n",
       "            color:  #000000;\n",
       "        }#T_e00b15ad_443e_11eb_aa57_04922689d95brow1_col2,#T_e00b15ad_443e_11eb_aa57_04922689d95brow1_col3,#T_e00b15ad_443e_11eb_aa57_04922689d95brow1_col4,#T_e00b15ad_443e_11eb_aa57_04922689d95brow2_col0,#T_e00b15ad_443e_11eb_aa57_04922689d95brow2_col1,#T_e00b15ad_443e_11eb_aa57_04922689d95brow3_col5{\n",
       "            background-color:  #000000;\n",
       "            color:  #f1f1f1;\n",
       "        }#T_e00b15ad_443e_11eb_aa57_04922689d95brow1_col5{\n",
       "            background-color:  #515151;\n",
       "            color:  #f1f1f1;\n",
       "        }#T_e00b15ad_443e_11eb_aa57_04922689d95brow2_col2{\n",
       "            background-color:  #585858;\n",
       "            color:  #f1f1f1;\n",
       "        }#T_e00b15ad_443e_11eb_aa57_04922689d95brow2_col3{\n",
       "            background-color:  #939393;\n",
       "            color:  #000000;\n",
       "        }#T_e00b15ad_443e_11eb_aa57_04922689d95brow2_col4{\n",
       "            background-color:  #4e4e4e;\n",
       "            color:  #f1f1f1;\n",
       "        }#T_e00b15ad_443e_11eb_aa57_04922689d95brow2_col5{\n",
       "            background-color:  #ededed;\n",
       "            color:  #000000;\n",
       "        }#T_e00b15ad_443e_11eb_aa57_04922689d95brow3_col0,#T_e00b15ad_443e_11eb_aa57_04922689d95brow3_col1,#T_e00b15ad_443e_11eb_aa57_04922689d95brow3_col2,#T_e00b15ad_443e_11eb_aa57_04922689d95brow3_col3,#T_e00b15ad_443e_11eb_aa57_04922689d95brow3_col4,#T_e00b15ad_443e_11eb_aa57_04922689d95brow4_col5{\n",
       "            background-color:  #ffffff;\n",
       "            color:  #000000;\n",
       "        }#T_e00b15ad_443e_11eb_aa57_04922689d95brow4_col0,#T_e00b15ad_443e_11eb_aa57_04922689d95brow4_col1{\n",
       "            background-color:  #0f0f0f;\n",
       "            color:  #f1f1f1;\n",
       "        }#T_e00b15ad_443e_11eb_aa57_04922689d95brow4_col2{\n",
       "            background-color:  #929292;\n",
       "            color:  #000000;\n",
       "        }#T_e00b15ad_443e_11eb_aa57_04922689d95brow4_col3{\n",
       "            background-color:  #f3f3f3;\n",
       "            color:  #000000;\n",
       "        }</style><table id=\"T_e00b15ad_443e_11eb_aa57_04922689d95b\" ><thead>    <tr>        <th class=\"blank level0\" ></th>        <th class=\"col_heading level0 col0\" >games_played</th>        <th class=\"col_heading level0 col1\" >percentage</th>        <th class=\"col_heading level0 col2\" >mean_pot</th>        <th class=\"col_heading level0 col3\" >median_pot</th>        <th class=\"col_heading level0 col4\" >max_pot</th>        <th class=\"col_heading level0 col5\" >min_pot</th>    </tr>    <tr>        <th class=\"index_name level0\" >game</th>        <th class=\"blank\" ></th>        <th class=\"blank\" ></th>        <th class=\"blank\" ></th>        <th class=\"blank\" ></th>        <th class=\"blank\" ></th>        <th class=\"blank\" ></th>    </tr></thead><tbody>\n",
       "                <tr>\n",
       "                        <th id=\"T_e00b15ad_443e_11eb_aa57_04922689d95blevel0_row0\" class=\"row_heading level0 row0\" >Badugi</th>\n",
       "                        <td id=\"T_e00b15ad_443e_11eb_aa57_04922689d95brow0_col0\" class=\"data row0 col0\" >19</td>\n",
       "                        <td id=\"T_e00b15ad_443e_11eb_aa57_04922689d95brow0_col1\" class=\"data row0 col1\" >15.320000</td>\n",
       "                        <td id=\"T_e00b15ad_443e_11eb_aa57_04922689d95brow0_col2\" class=\"data row0 col2\" >11117.368400</td>\n",
       "                        <td id=\"T_e00b15ad_443e_11eb_aa57_04922689d95brow0_col3\" class=\"data row0 col3\" >5800.000000</td>\n",
       "                        <td id=\"T_e00b15ad_443e_11eb_aa57_04922689d95brow0_col4\" class=\"data row0 col4\" >61500.000000</td>\n",
       "                        <td id=\"T_e00b15ad_443e_11eb_aa57_04922689d95brow0_col5\" class=\"data row0 col5\" >1500.000000</td>\n",
       "            </tr>\n",
       "            <tr>\n",
       "                        <th id=\"T_e00b15ad_443e_11eb_aa57_04922689d95blevel0_row1\" class=\"row_heading level0 row1\" >DeuceToSeven</th>\n",
       "                        <td id=\"T_e00b15ad_443e_11eb_aa57_04922689d95brow1_col0\" class=\"data row1 col0\" >19</td>\n",
       "                        <td id=\"T_e00b15ad_443e_11eb_aa57_04922689d95brow1_col1\" class=\"data row1 col1\" >15.320000</td>\n",
       "                        <td id=\"T_e00b15ad_443e_11eb_aa57_04922689d95brow1_col2\" class=\"data row1 col2\" >14474.736800</td>\n",
       "                        <td id=\"T_e00b15ad_443e_11eb_aa57_04922689d95brow1_col3\" class=\"data row1 col3\" >8350.000000</td>\n",
       "                        <td id=\"T_e00b15ad_443e_11eb_aa57_04922689d95brow1_col4\" class=\"data row1 col4\" >62950.000000</td>\n",
       "                        <td id=\"T_e00b15ad_443e_11eb_aa57_04922689d95brow1_col5\" class=\"data row1 col5\" >2200.000000</td>\n",
       "            </tr>\n",
       "            <tr>\n",
       "                        <th id=\"T_e00b15ad_443e_11eb_aa57_04922689d95blevel0_row2\" class=\"row_heading level0 row2\" >OmahaHi</th>\n",
       "                        <td id=\"T_e00b15ad_443e_11eb_aa57_04922689d95brow2_col0\" class=\"data row2 col0\" >42</td>\n",
       "                        <td id=\"T_e00b15ad_443e_11eb_aa57_04922689d95brow2_col1\" class=\"data row2 col1\" >33.870000</td>\n",
       "                        <td id=\"T_e00b15ad_443e_11eb_aa57_04922689d95brow2_col2\" class=\"data row2 col2\" >11772.093000</td>\n",
       "                        <td id=\"T_e00b15ad_443e_11eb_aa57_04922689d95brow2_col3\" class=\"data row2 col3\" >6400.000000</td>\n",
       "                        <td id=\"T_e00b15ad_443e_11eb_aa57_04922689d95brow2_col4\" class=\"data row2 col4\" >49600.000000</td>\n",
       "                        <td id=\"T_e00b15ad_443e_11eb_aa57_04922689d95brow2_col5\" class=\"data row2 col5\" >500.000000</td>\n",
       "            </tr>\n",
       "            <tr>\n",
       "                        <th id=\"T_e00b15ad_443e_11eb_aa57_04922689d95blevel0_row3\" class=\"row_heading level0 row3\" >OmahaHiLo</th>\n",
       "                        <td id=\"T_e00b15ad_443e_11eb_aa57_04922689d95brow3_col0\" class=\"data row3 col0\" >4</td>\n",
       "                        <td id=\"T_e00b15ad_443e_11eb_aa57_04922689d95brow3_col1\" class=\"data row3 col1\" >3.230000</td>\n",
       "                        <td id=\"T_e00b15ad_443e_11eb_aa57_04922689d95brow3_col2\" class=\"data row3 col2\" >4610.000000</td>\n",
       "                        <td id=\"T_e00b15ad_443e_11eb_aa57_04922689d95brow3_col3\" class=\"data row3 col3\" >4375.000000</td>\n",
       "                        <td id=\"T_e00b15ad_443e_11eb_aa57_04922689d95brow3_col4\" class=\"data row3 col4\" >7200.000000</td>\n",
       "                        <td id=\"T_e00b15ad_443e_11eb_aa57_04922689d95brow3_col5\" class=\"data row3 col5\" >2900.000000</td>\n",
       "            </tr>\n",
       "            <tr>\n",
       "                        <th id=\"T_e00b15ad_443e_11eb_aa57_04922689d95blevel0_row4\" class=\"row_heading level0 row4\" >TexasHoldEm</th>\n",
       "                        <td id=\"T_e00b15ad_443e_11eb_aa57_04922689d95brow4_col0\" class=\"data row4 col0\" >40</td>\n",
       "                        <td id=\"T_e00b15ad_443e_11eb_aa57_04922689d95brow4_col1\" class=\"data row4 col1\" >32.260000</td>\n",
       "                        <td id=\"T_e00b15ad_443e_11eb_aa57_04922689d95brow4_col2\" class=\"data row4 col2\" >9666.625000</td>\n",
       "                        <td id=\"T_e00b15ad_443e_11eb_aa57_04922689d95brow4_col3\" class=\"data row4 col3\" >4775.000000</td>\n",
       "                        <td id=\"T_e00b15ad_443e_11eb_aa57_04922689d95brow4_col4\" class=\"data row4 col4\" >43800.000000</td>\n",
       "                        <td id=\"T_e00b15ad_443e_11eb_aa57_04922689d95brow4_col5\" class=\"data row4 col5\" >100.000000</td>\n",
       "            </tr>\n",
       "    </tbody></table>"
      ],
      "text/plain": [
       "<pandas.io.formats.style.Styler at 0x1cdb0e1f820>"
      ]
     },
     "execution_count": 34,
     "metadata": {},
     "output_type": "execute_result"
    }
   ],
   "source": [
    "#cm = sns.diverging_palette(cmap = \"Greys\", as_cmap=True)\n",
    "df.style.background_gradient(cmap=\"Greys\", axis = 0)"
   ]
  },
  {
   "cell_type": "code",
   "execution_count": 18,
   "metadata": {},
   "outputs": [
    {
     "data": {
      "text/html": [
       "<style  type=\"text/css\" >\n",
       "#T_6050c7f4_443d_11eb_a833_04922689d95brow0_col0,#T_6050c7f4_443d_11eb_a833_04922689d95brow0_col1,#T_6050c7f4_443d_11eb_a833_04922689d95brow1_col0,#T_6050c7f4_443d_11eb_a833_04922689d95brow1_col1{\n",
       "            background-color:  #d7ee8a;\n",
       "            color:  #000000;\n",
       "        }#T_6050c7f4_443d_11eb_a833_04922689d95brow0_col2,#T_6050c7f4_443d_11eb_a833_04922689d95brow4_col4{\n",
       "            background-color:  #fdc372;\n",
       "            color:  #000000;\n",
       "        }#T_6050c7f4_443d_11eb_a833_04922689d95brow0_col3{\n",
       "            background-color:  #c3e67d;\n",
       "            color:  #000000;\n",
       "        }#T_6050c7f4_443d_11eb_a833_04922689d95brow0_col4{\n",
       "            background-color:  #b10b26;\n",
       "            color:  #f1f1f1;\n",
       "        }#T_6050c7f4_443d_11eb_a833_04922689d95brow0_col5{\n",
       "            background-color:  #fffebe;\n",
       "            color:  #000000;\n",
       "        }#T_6050c7f4_443d_11eb_a833_04922689d95brow1_col2,#T_6050c7f4_443d_11eb_a833_04922689d95brow1_col3,#T_6050c7f4_443d_11eb_a833_04922689d95brow1_col4,#T_6050c7f4_443d_11eb_a833_04922689d95brow2_col0,#T_6050c7f4_443d_11eb_a833_04922689d95brow2_col1,#T_6050c7f4_443d_11eb_a833_04922689d95brow3_col5{\n",
       "            background-color:  #a50026;\n",
       "            color:  #f1f1f1;\n",
       "        }#T_6050c7f4_443d_11eb_a833_04922689d95brow1_col5{\n",
       "            background-color:  #f88c51;\n",
       "            color:  #000000;\n",
       "        }#T_6050c7f4_443d_11eb_a833_04922689d95brow2_col2{\n",
       "            background-color:  #fb9d59;\n",
       "            color:  #000000;\n",
       "        }#T_6050c7f4_443d_11eb_a833_04922689d95brow2_col3{\n",
       "            background-color:  #fffcba;\n",
       "            color:  #000000;\n",
       "        }#T_6050c7f4_443d_11eb_a833_04922689d95brow2_col4{\n",
       "            background-color:  #f8864f;\n",
       "            color:  #000000;\n",
       "        }#T_6050c7f4_443d_11eb_a833_04922689d95brow2_col5{\n",
       "            background-color:  #39a758;\n",
       "            color:  #000000;\n",
       "        }#T_6050c7f4_443d_11eb_a833_04922689d95brow3_col0,#T_6050c7f4_443d_11eb_a833_04922689d95brow3_col1,#T_6050c7f4_443d_11eb_a833_04922689d95brow3_col2,#T_6050c7f4_443d_11eb_a833_04922689d95brow3_col3,#T_6050c7f4_443d_11eb_a833_04922689d95brow3_col4,#T_6050c7f4_443d_11eb_a833_04922689d95brow4_col5{\n",
       "            background-color:  #006837;\n",
       "            color:  #f1f1f1;\n",
       "        }#T_6050c7f4_443d_11eb_a833_04922689d95brow4_col0,#T_6050c7f4_443d_11eb_a833_04922689d95brow4_col1{\n",
       "            background-color:  #be1827;\n",
       "            color:  #f1f1f1;\n",
       "        }#T_6050c7f4_443d_11eb_a833_04922689d95brow4_col2{\n",
       "            background-color:  #fffbb8;\n",
       "            color:  #000000;\n",
       "        }#T_6050c7f4_443d_11eb_a833_04922689d95brow4_col3{\n",
       "            background-color:  #199750;\n",
       "            color:  #000000;\n",
       "        }</style><table id=\"T_6050c7f4_443d_11eb_a833_04922689d95b\" ><thead>    <tr>        <th class=\"blank level0\" ></th>        <th class=\"col_heading level0 col0\" >games_played</th>        <th class=\"col_heading level0 col1\" >percentage</th>        <th class=\"col_heading level0 col2\" >mean_pot</th>        <th class=\"col_heading level0 col3\" >median_pot</th>        <th class=\"col_heading level0 col4\" >max_pot</th>        <th class=\"col_heading level0 col5\" >min_pot</th>    </tr>    <tr>        <th class=\"index_name level0\" >game</th>        <th class=\"blank\" ></th>        <th class=\"blank\" ></th>        <th class=\"blank\" ></th>        <th class=\"blank\" ></th>        <th class=\"blank\" ></th>        <th class=\"blank\" ></th>    </tr></thead><tbody>\n",
       "                <tr>\n",
       "                        <th id=\"T_6050c7f4_443d_11eb_a833_04922689d95blevel0_row0\" class=\"row_heading level0 row0\" >Badugi</th>\n",
       "                        <td id=\"T_6050c7f4_443d_11eb_a833_04922689d95brow0_col0\" class=\"data row0 col0\" >19</td>\n",
       "                        <td id=\"T_6050c7f4_443d_11eb_a833_04922689d95brow0_col1\" class=\"data row0 col1\" >15.320000</td>\n",
       "                        <td id=\"T_6050c7f4_443d_11eb_a833_04922689d95brow0_col2\" class=\"data row0 col2\" >11117.368400</td>\n",
       "                        <td id=\"T_6050c7f4_443d_11eb_a833_04922689d95brow0_col3\" class=\"data row0 col3\" >5800.000000</td>\n",
       "                        <td id=\"T_6050c7f4_443d_11eb_a833_04922689d95brow0_col4\" class=\"data row0 col4\" >61500.000000</td>\n",
       "                        <td id=\"T_6050c7f4_443d_11eb_a833_04922689d95brow0_col5\" class=\"data row0 col5\" >1500.000000</td>\n",
       "            </tr>\n",
       "            <tr>\n",
       "                        <th id=\"T_6050c7f4_443d_11eb_a833_04922689d95blevel0_row1\" class=\"row_heading level0 row1\" >DeuceToSeven</th>\n",
       "                        <td id=\"T_6050c7f4_443d_11eb_a833_04922689d95brow1_col0\" class=\"data row1 col0\" >19</td>\n",
       "                        <td id=\"T_6050c7f4_443d_11eb_a833_04922689d95brow1_col1\" class=\"data row1 col1\" >15.320000</td>\n",
       "                        <td id=\"T_6050c7f4_443d_11eb_a833_04922689d95brow1_col2\" class=\"data row1 col2\" >14474.736800</td>\n",
       "                        <td id=\"T_6050c7f4_443d_11eb_a833_04922689d95brow1_col3\" class=\"data row1 col3\" >8350.000000</td>\n",
       "                        <td id=\"T_6050c7f4_443d_11eb_a833_04922689d95brow1_col4\" class=\"data row1 col4\" >62950.000000</td>\n",
       "                        <td id=\"T_6050c7f4_443d_11eb_a833_04922689d95brow1_col5\" class=\"data row1 col5\" >2200.000000</td>\n",
       "            </tr>\n",
       "            <tr>\n",
       "                        <th id=\"T_6050c7f4_443d_11eb_a833_04922689d95blevel0_row2\" class=\"row_heading level0 row2\" >OmahaHi</th>\n",
       "                        <td id=\"T_6050c7f4_443d_11eb_a833_04922689d95brow2_col0\" class=\"data row2 col0\" >42</td>\n",
       "                        <td id=\"T_6050c7f4_443d_11eb_a833_04922689d95brow2_col1\" class=\"data row2 col1\" >33.870000</td>\n",
       "                        <td id=\"T_6050c7f4_443d_11eb_a833_04922689d95brow2_col2\" class=\"data row2 col2\" >11772.093000</td>\n",
       "                        <td id=\"T_6050c7f4_443d_11eb_a833_04922689d95brow2_col3\" class=\"data row2 col3\" >6400.000000</td>\n",
       "                        <td id=\"T_6050c7f4_443d_11eb_a833_04922689d95brow2_col4\" class=\"data row2 col4\" >49600.000000</td>\n",
       "                        <td id=\"T_6050c7f4_443d_11eb_a833_04922689d95brow2_col5\" class=\"data row2 col5\" >500.000000</td>\n",
       "            </tr>\n",
       "            <tr>\n",
       "                        <th id=\"T_6050c7f4_443d_11eb_a833_04922689d95blevel0_row3\" class=\"row_heading level0 row3\" >OmahaHiLo</th>\n",
       "                        <td id=\"T_6050c7f4_443d_11eb_a833_04922689d95brow3_col0\" class=\"data row3 col0\" >4</td>\n",
       "                        <td id=\"T_6050c7f4_443d_11eb_a833_04922689d95brow3_col1\" class=\"data row3 col1\" >3.230000</td>\n",
       "                        <td id=\"T_6050c7f4_443d_11eb_a833_04922689d95brow3_col2\" class=\"data row3 col2\" >4610.000000</td>\n",
       "                        <td id=\"T_6050c7f4_443d_11eb_a833_04922689d95brow3_col3\" class=\"data row3 col3\" >4375.000000</td>\n",
       "                        <td id=\"T_6050c7f4_443d_11eb_a833_04922689d95brow3_col4\" class=\"data row3 col4\" >7200.000000</td>\n",
       "                        <td id=\"T_6050c7f4_443d_11eb_a833_04922689d95brow3_col5\" class=\"data row3 col5\" >2900.000000</td>\n",
       "            </tr>\n",
       "            <tr>\n",
       "                        <th id=\"T_6050c7f4_443d_11eb_a833_04922689d95blevel0_row4\" class=\"row_heading level0 row4\" >TexasHoldEm</th>\n",
       "                        <td id=\"T_6050c7f4_443d_11eb_a833_04922689d95brow4_col0\" class=\"data row4 col0\" >40</td>\n",
       "                        <td id=\"T_6050c7f4_443d_11eb_a833_04922689d95brow4_col1\" class=\"data row4 col1\" >32.260000</td>\n",
       "                        <td id=\"T_6050c7f4_443d_11eb_a833_04922689d95brow4_col2\" class=\"data row4 col2\" >9666.625000</td>\n",
       "                        <td id=\"T_6050c7f4_443d_11eb_a833_04922689d95brow4_col3\" class=\"data row4 col3\" >4775.000000</td>\n",
       "                        <td id=\"T_6050c7f4_443d_11eb_a833_04922689d95brow4_col4\" class=\"data row4 col4\" >43800.000000</td>\n",
       "                        <td id=\"T_6050c7f4_443d_11eb_a833_04922689d95brow4_col5\" class=\"data row4 col5\" >100.000000</td>\n",
       "            </tr>\n",
       "    </tbody></table>"
      ],
      "text/plain": [
       "<pandas.io.formats.style.Styler at 0x1cdb0e0deb0>"
      ]
     },
     "execution_count": 18,
     "metadata": {},
     "output_type": "execute_result"
    }
   ],
   "source": [
    "\n"
   ]
  },
  {
   "cell_type": "code",
   "execution_count": null,
   "metadata": {},
   "outputs": [],
   "source": []
  }
 ],
 "metadata": {
  "kernelspec": {
   "display_name": "Python 3",
   "language": "python",
   "name": "python3"
  },
  "language_info": {
   "codemirror_mode": {
    "name": "ipython",
    "version": 3
   },
   "file_extension": ".py",
   "mimetype": "text/x-python",
   "name": "python",
   "nbconvert_exporter": "python",
   "pygments_lexer": "ipython3",
   "version": "3.8.3"
  },
  "varInspector": {
   "cols": {
    "lenName": 16,
    "lenType": 16,
    "lenVar": 40
   },
   "kernels_config": {
    "python": {
     "delete_cmd_postfix": "",
     "delete_cmd_prefix": "del ",
     "library": "var_list.py",
     "varRefreshCmd": "print(var_dic_list())"
    },
    "r": {
     "delete_cmd_postfix": ") ",
     "delete_cmd_prefix": "rm(",
     "library": "var_list.r",
     "varRefreshCmd": "cat(var_dic_list()) "
    }
   },
   "types_to_exclude": [
    "module",
    "function",
    "builtin_function_or_method",
    "instance",
    "_Feature"
   ],
   "window_display": true
  }
 },
 "nbformat": 4,
 "nbformat_minor": 4
}
